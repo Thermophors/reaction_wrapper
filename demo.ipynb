{
 "cells": [
  {
   "cell_type": "code",
   "execution_count": 2,
   "metadata": {},
   "outputs": [],
   "source": [
    "%load_ext autoreload\n",
    "%autoreload 2\n"
   ]
  },
  {
   "cell_type": "code",
   "execution_count": 3,
   "metadata": {},
   "outputs": [],
   "source": [
    "\n",
    "import requests\n",
    "import json\n",
    "import socket\n",
    "from typing import List, Dict\n"
   ]
  },
  {
   "cell_type": "code",
   "execution_count": 4,
   "metadata": {},
   "outputs": [],
   "source": [
    "def test_if_sever_is_up():\n",
    "    sock = socket.socket(socket.AF_INET, socket.SOCK_STREAM)\n",
    "    result = sock.connect_ex(('localhost', 80))\n",
    "    if result == 0:\n",
    "        print(\"Sever is up and running\")\n",
    "    else:\n",
    "        print(\"Server is down. Please run `docker run --rm -p 80:80 reaction_wrapper`\")"
   ]
  },
  {
   "cell_type": "markdown",
   "metadata": {},
   "source": [
    "# Intro\n",
    "\n",
    "* Notebook contains example usage of a `reaction_wrapper` service for running chemical reactions on provided reactans. \n",
    "\n",
    "* Check if server is up (run `test_if_sever_is_up()`).\n",
    "\n",
    "* `reaction_wrapper` was tested using several combinations of valid and invalid reaction SMARTS and reactant SMILES. For the interaction with a service there is helper function `get_reaction_products`."
   ]
  },
  {
   "cell_type": "code",
   "execution_count": 5,
   "metadata": {},
   "outputs": [
    {
     "name": "stdout",
     "output_type": "stream",
     "text": [
      "Sever is up and running\n"
     ]
    }
   ],
   "source": [
    "test_if_sever_is_up()"
   ]
  },
  {
   "cell_type": "code",
   "execution_count": 6,
   "metadata": {},
   "outputs": [],
   "source": [
    "def get_reaction_products(input_string: str, address: str = \"localhost\", port=80, limits=1000) -> Dict:\n",
    "    \"\"\"Processing input JSON with reaction_wrapper service\"\"\"\n",
    "    headers = {'Content-Type': 'application/json'}\n",
    "    data = input_string\n",
    "    response = requests.post(\n",
    "        f'http://{address}:{port}/run_reaction?limits={limits}', headers=headers, data=data)\n",
    "\n",
    "    return response.json()\n"
   ]
  },
  {
   "cell_type": "markdown",
   "metadata": {},
   "source": [
    "## Correct input"
   ]
  },
  {
   "cell_type": "code",
   "execution_count": 7,
   "metadata": {},
   "outputs": [
    {
     "data": {
      "text/plain": [
       "{'Products': [['Cc1cc(C)cc(-c2ccc(C)c(I)c2)c1', 'Bc1ccc(C)cc1'],\n",
       "  ['Cc1ccc(-c2cc(I)ccc2C)cc1', 'Bc1cc(C)cc(C)c1'],\n",
       "  ['Cc1cc(C)cc(I)c1', 'Bc1ccc(C)c(-c2ccc(C)cc2)c1'],\n",
       "  ['Cc1ccc(I)cc1', 'Bc1cc(-c2cc(C)cc(C)c2)ccc1C']]}"
      ]
     },
     "execution_count": 7,
     "metadata": {},
     "output_type": "execute_result"
    }
   ],
   "source": [
    "input_string = '{\"reaction_smarts\": \"[c:8]-[c:6]>>[c:8][I:55].[B:99][c:6]\", \"reactants\": \"CC1=CC=C(C=C1)C1=CC(=CC=C1C)C1=CC(C)=CC(C)=C1\"}'\n",
    "get_reaction_products(input_string)"
   ]
  },
  {
   "cell_type": "code",
   "execution_count": 8,
   "metadata": {},
   "outputs": [
    {
     "data": {
      "text/plain": [
       "{'Products': [['Cc1ccc(I)cc1', 'Bc1cc(-c2cc(C)cc(C)c2)ccc1C']]}"
      ]
     },
     "execution_count": 8,
     "metadata": {},
     "output_type": "execute_result"
    }
   ],
   "source": [
    "get_reaction_products(input_string, limits = 1)"
   ]
  },
  {
   "cell_type": "markdown",
   "metadata": {},
   "source": [
    "## Incorrect inputs"
   ]
  },
  {
   "cell_type": "code",
   "execution_count": 9,
   "metadata": {},
   "outputs": [
    {
     "data": {
      "text/plain": [
       "{'message': 'Invalid reactant SMILES'}"
      ]
     },
     "execution_count": 9,
     "metadata": {},
     "output_type": "execute_result"
    }
   ],
   "source": [
    "input_string_incorrect_smiles = '{\"reaction_smarts\": \"[c:8]-[c:6]>>[c:8][I:55].[B:99][c:6]\", \"reactants\": \"ABCDEHGF\"}'\n",
    "get_reaction_products(input_string_incorrect_smiles)"
   ]
  },
  {
   "cell_type": "code",
   "execution_count": 10,
   "metadata": {},
   "outputs": [
    {
     "data": {
      "text/plain": [
       "{'message': 'Reactants not compatible with the reaction'}"
      ]
     },
     "execution_count": 10,
     "metadata": {},
     "output_type": "execute_result"
    }
   ],
   "source": [
    "input_string_incompatible_reactant = '{\"reaction_smarts\": \"[c:8]-[c:6]>>[c:8][I:55].[B:99][c:6]\", \"reactants\": \"O=C(C)Oc1ccccc1C(=O)O\"}'\n",
    "get_reaction_products(input_string_incompatible_reactant)"
   ]
  },
  {
   "cell_type": "code",
   "execution_count": 11,
   "metadata": {},
   "outputs": [
    {
     "data": {
      "text/plain": [
       "{'message': 'ChemicalReactionParserException: a reaction requires at least two > characters'}"
      ]
     },
     "execution_count": 11,
     "metadata": {},
     "output_type": "execute_result"
    }
   ],
   "source": [
    "input_string_incorrect_smarts = '{\"reaction_smarts\": \"ABC\", \"reactants\": \"CC1=CC=C(C=C1)C1=CC(=CC=C1C)C1=CC(C)=CC(C)=C1\"}'\n",
    "get_reaction_products(input_string_incorrect_smarts)"
   ]
  }
 ],
 "metadata": {
  "kernelspec": {
   "display_name": "Python 3.8.12 ('analysis_env')",
   "language": "python",
   "name": "python3"
  },
  "language_info": {
   "codemirror_mode": {
    "name": "ipython",
    "version": 3
   },
   "file_extension": ".py",
   "mimetype": "text/x-python",
   "name": "python",
   "nbconvert_exporter": "python",
   "pygments_lexer": "ipython3",
   "version": "3.8.12"
  },
  "orig_nbformat": 4,
  "vscode": {
   "interpreter": {
    "hash": "df6c896d6a458efe0c5cea498eccdcd8b5321bf6bbac543ea109ed6732ec60c8"
   }
  }
 },
 "nbformat": 4,
 "nbformat_minor": 2
}
